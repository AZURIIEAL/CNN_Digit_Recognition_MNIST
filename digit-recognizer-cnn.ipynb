{
 "cells": [
  {
   "cell_type": "markdown",
   "id": "7f9c9d09",
   "metadata": {
    "papermill": {
     "duration": 0.007186,
     "end_time": "2023-04-28T09:02:56.767569",
     "exception": false,
     "start_time": "2023-04-28T09:02:56.760383",
     "status": "completed"
    },
    "tags": []
   },
   "source": [
    "# Digit Recognizer (CNN)"
   ]
  },
  {
   "cell_type": "markdown",
   "id": "e26172e6",
   "metadata": {
    "papermill": {
     "duration": 0.005826,
     "end_time": "2023-04-28T09:02:56.779614",
     "exception": false,
     "start_time": "2023-04-28T09:02:56.773788",
     "status": "completed"
    },
    "tags": []
   },
   "source": [
    "Import the required dependencies"
   ]
  },
  {
   "cell_type": "code",
   "execution_count": 1,
   "id": "17012b48",
   "metadata": {
    "execution": {
     "iopub.execute_input": "2023-04-28T09:02:56.794207Z",
     "iopub.status.busy": "2023-04-28T09:02:56.793340Z",
     "iopub.status.idle": "2023-04-28T09:03:05.562547Z",
     "shell.execute_reply": "2023-04-28T09:03:05.561445Z"
    },
    "papermill": {
     "duration": 8.780022,
     "end_time": "2023-04-28T09:03:05.565746",
     "exception": false,
     "start_time": "2023-04-28T09:02:56.785724",
     "status": "completed"
    },
    "tags": []
   },
   "outputs": [],
   "source": [
    "import pandas as pd  #Pandas for working with dataframes.\n",
    "import numpy as np  #Numpy for working with matrices and linear algebra.\n",
    "import tensorflow as tf #Tensorflow for model generation.\n",
    "from keras.preprocessing.image import ImageDataGenerator #Keras For data generation ie to make our data large.\n",
    "from sklearn.model_selection import train_test_split #Scikit learn for train- test splitting our data\n",
    "import matplotlib.pyplot as plt #Matplotlib for plotting graphs or images."
   ]
  },
  {
   "cell_type": "markdown",
   "id": "ef160129",
   "metadata": {
    "papermill": {
     "duration": 0.00614,
     "end_time": "2023-04-28T09:03:05.578089",
     "exception": false,
     "start_time": "2023-04-28T09:03:05.571949",
     "status": "completed"
    },
    "tags": []
   },
   "source": [
    "### Loading the data"
   ]
  },
  {
   "cell_type": "markdown",
   "id": "45569253",
   "metadata": {
    "papermill": {
     "duration": 0.005803,
     "end_time": "2023-04-28T09:03:05.589869",
     "exception": false,
     "start_time": "2023-04-28T09:03:05.584066",
     "status": "completed"
    },
    "tags": []
   },
   "source": [
    "We begin by loading the data into the variable \"path\" and then map it to a variable \"mnist_training\"."
   ]
  },
  {
   "cell_type": "code",
   "execution_count": 2,
   "id": "5c45e6d9",
   "metadata": {
    "execution": {
     "iopub.execute_input": "2023-04-28T09:03:05.603850Z",
     "iopub.status.busy": "2023-04-28T09:03:05.603014Z",
     "iopub.status.idle": "2023-04-28T09:03:08.840285Z",
     "shell.execute_reply": "2023-04-28T09:03:08.839247Z"
    },
    "papermill": {
     "duration": 3.246786,
     "end_time": "2023-04-28T09:03:08.842793",
     "exception": false,
     "start_time": "2023-04-28T09:03:05.596007",
     "status": "completed"
    },
    "tags": []
   },
   "outputs": [],
   "source": [
    "path = \"/kaggle/input/digit-recognizer/train.csv\"\n",
    "mnist_training = pd.read_csv(path)"
   ]
  },
  {
   "cell_type": "markdown",
   "id": "b51ec7a4",
   "metadata": {
    "papermill": {
     "duration": 0.006986,
     "end_time": "2023-04-28T09:03:08.855960",
     "exception": false,
     "start_time": "2023-04-28T09:03:08.848974",
     "status": "completed"
    },
    "tags": []
   },
   "source": [
    "### Inspecting the data"
   ]
  },
  {
   "cell_type": "markdown",
   "id": "75762773",
   "metadata": {
    "papermill": {
     "duration": 0.005712,
     "end_time": "2023-04-28T09:03:08.867595",
     "exception": false,
     "start_time": "2023-04-28T09:03:08.861883",
     "status": "completed"
    },
    "tags": []
   },
   "source": [
    "Next, we inspect the structure of the dataset. How many samples do we have? How is the data labeled and what structure does it have?"
   ]
  },
  {
   "cell_type": "code",
   "execution_count": 3,
   "id": "7d1ff17b",
   "metadata": {
    "execution": {
     "iopub.execute_input": "2023-04-28T09:03:08.880787Z",
     "iopub.status.busy": "2023-04-28T09:03:08.880485Z",
     "iopub.status.idle": "2023-04-28T09:03:08.902472Z",
     "shell.execute_reply": "2023-04-28T09:03:08.901385Z"
    },
    "papermill": {
     "duration": 0.032293,
     "end_time": "2023-04-28T09:03:08.905773",
     "exception": false,
     "start_time": "2023-04-28T09:03:08.873480",
     "status": "completed"
    },
    "tags": []
   },
   "outputs": [
    {
     "data": {
      "text/html": [
       "<div>\n",
       "<style scoped>\n",
       "    .dataframe tbody tr th:only-of-type {\n",
       "        vertical-align: middle;\n",
       "    }\n",
       "\n",
       "    .dataframe tbody tr th {\n",
       "        vertical-align: top;\n",
       "    }\n",
       "\n",
       "    .dataframe thead th {\n",
       "        text-align: right;\n",
       "    }\n",
       "</style>\n",
       "<table border=\"1\" class=\"dataframe\">\n",
       "  <thead>\n",
       "    <tr style=\"text-align: right;\">\n",
       "      <th></th>\n",
       "      <th>label</th>\n",
       "      <th>pixel0</th>\n",
       "      <th>pixel1</th>\n",
       "      <th>pixel2</th>\n",
       "      <th>pixel3</th>\n",
       "      <th>pixel4</th>\n",
       "      <th>pixel5</th>\n",
       "      <th>pixel6</th>\n",
       "      <th>pixel7</th>\n",
       "      <th>pixel8</th>\n",
       "      <th>...</th>\n",
       "      <th>pixel774</th>\n",
       "      <th>pixel775</th>\n",
       "      <th>pixel776</th>\n",
       "      <th>pixel777</th>\n",
       "      <th>pixel778</th>\n",
       "      <th>pixel779</th>\n",
       "      <th>pixel780</th>\n",
       "      <th>pixel781</th>\n",
       "      <th>pixel782</th>\n",
       "      <th>pixel783</th>\n",
       "    </tr>\n",
       "  </thead>\n",
       "  <tbody>\n",
       "    <tr>\n",
       "      <th>0</th>\n",
       "      <td>1</td>\n",
       "      <td>0</td>\n",
       "      <td>0</td>\n",
       "      <td>0</td>\n",
       "      <td>0</td>\n",
       "      <td>0</td>\n",
       "      <td>0</td>\n",
       "      <td>0</td>\n",
       "      <td>0</td>\n",
       "      <td>0</td>\n",
       "      <td>...</td>\n",
       "      <td>0</td>\n",
       "      <td>0</td>\n",
       "      <td>0</td>\n",
       "      <td>0</td>\n",
       "      <td>0</td>\n",
       "      <td>0</td>\n",
       "      <td>0</td>\n",
       "      <td>0</td>\n",
       "      <td>0</td>\n",
       "      <td>0</td>\n",
       "    </tr>\n",
       "    <tr>\n",
       "      <th>1</th>\n",
       "      <td>0</td>\n",
       "      <td>0</td>\n",
       "      <td>0</td>\n",
       "      <td>0</td>\n",
       "      <td>0</td>\n",
       "      <td>0</td>\n",
       "      <td>0</td>\n",
       "      <td>0</td>\n",
       "      <td>0</td>\n",
       "      <td>0</td>\n",
       "      <td>...</td>\n",
       "      <td>0</td>\n",
       "      <td>0</td>\n",
       "      <td>0</td>\n",
       "      <td>0</td>\n",
       "      <td>0</td>\n",
       "      <td>0</td>\n",
       "      <td>0</td>\n",
       "      <td>0</td>\n",
       "      <td>0</td>\n",
       "      <td>0</td>\n",
       "    </tr>\n",
       "    <tr>\n",
       "      <th>2</th>\n",
       "      <td>1</td>\n",
       "      <td>0</td>\n",
       "      <td>0</td>\n",
       "      <td>0</td>\n",
       "      <td>0</td>\n",
       "      <td>0</td>\n",
       "      <td>0</td>\n",
       "      <td>0</td>\n",
       "      <td>0</td>\n",
       "      <td>0</td>\n",
       "      <td>...</td>\n",
       "      <td>0</td>\n",
       "      <td>0</td>\n",
       "      <td>0</td>\n",
       "      <td>0</td>\n",
       "      <td>0</td>\n",
       "      <td>0</td>\n",
       "      <td>0</td>\n",
       "      <td>0</td>\n",
       "      <td>0</td>\n",
       "      <td>0</td>\n",
       "    </tr>\n",
       "    <tr>\n",
       "      <th>3</th>\n",
       "      <td>4</td>\n",
       "      <td>0</td>\n",
       "      <td>0</td>\n",
       "      <td>0</td>\n",
       "      <td>0</td>\n",
       "      <td>0</td>\n",
       "      <td>0</td>\n",
       "      <td>0</td>\n",
       "      <td>0</td>\n",
       "      <td>0</td>\n",
       "      <td>...</td>\n",
       "      <td>0</td>\n",
       "      <td>0</td>\n",
       "      <td>0</td>\n",
       "      <td>0</td>\n",
       "      <td>0</td>\n",
       "      <td>0</td>\n",
       "      <td>0</td>\n",
       "      <td>0</td>\n",
       "      <td>0</td>\n",
       "      <td>0</td>\n",
       "    </tr>\n",
       "    <tr>\n",
       "      <th>4</th>\n",
       "      <td>0</td>\n",
       "      <td>0</td>\n",
       "      <td>0</td>\n",
       "      <td>0</td>\n",
       "      <td>0</td>\n",
       "      <td>0</td>\n",
       "      <td>0</td>\n",
       "      <td>0</td>\n",
       "      <td>0</td>\n",
       "      <td>0</td>\n",
       "      <td>...</td>\n",
       "      <td>0</td>\n",
       "      <td>0</td>\n",
       "      <td>0</td>\n",
       "      <td>0</td>\n",
       "      <td>0</td>\n",
       "      <td>0</td>\n",
       "      <td>0</td>\n",
       "      <td>0</td>\n",
       "      <td>0</td>\n",
       "      <td>0</td>\n",
       "    </tr>\n",
       "  </tbody>\n",
       "</table>\n",
       "<p>5 rows × 785 columns</p>\n",
       "</div>"
      ],
      "text/plain": [
       "   label  pixel0  pixel1  pixel2  pixel3  pixel4  pixel5  pixel6  pixel7  \\\n",
       "0      1       0       0       0       0       0       0       0       0   \n",
       "1      0       0       0       0       0       0       0       0       0   \n",
       "2      1       0       0       0       0       0       0       0       0   \n",
       "3      4       0       0       0       0       0       0       0       0   \n",
       "4      0       0       0       0       0       0       0       0       0   \n",
       "\n",
       "   pixel8  ...  pixel774  pixel775  pixel776  pixel777  pixel778  pixel779  \\\n",
       "0       0  ...         0         0         0         0         0         0   \n",
       "1       0  ...         0         0         0         0         0         0   \n",
       "2       0  ...         0         0         0         0         0         0   \n",
       "3       0  ...         0         0         0         0         0         0   \n",
       "4       0  ...         0         0         0         0         0         0   \n",
       "\n",
       "   pixel780  pixel781  pixel782  pixel783  \n",
       "0         0         0         0         0  \n",
       "1         0         0         0         0  \n",
       "2         0         0         0         0  \n",
       "3         0         0         0         0  \n",
       "4         0         0         0         0  \n",
       "\n",
       "[5 rows x 785 columns]"
      ]
     },
     "execution_count": 3,
     "metadata": {},
     "output_type": "execute_result"
    }
   ],
   "source": [
    "mnist_training.head()"
   ]
  },
  {
   "cell_type": "markdown",
   "id": "d72d0582",
   "metadata": {
    "papermill": {
     "duration": 0.00593,
     "end_time": "2023-04-28T09:03:08.918059",
     "exception": false,
     "start_time": "2023-04-28T09:03:08.912129",
     "status": "completed"
    },
    "tags": []
   },
   "source": [
    "What kind of values can be observed within the pixel-columns?"
   ]
  },
  {
   "cell_type": "code",
   "execution_count": 4,
   "id": "81af5663",
   "metadata": {
    "execution": {
     "iopub.execute_input": "2023-04-28T09:03:08.931595Z",
     "iopub.status.busy": "2023-04-28T09:03:08.931310Z",
     "iopub.status.idle": "2023-04-28T09:03:10.957313Z",
     "shell.execute_reply": "2023-04-28T09:03:10.956085Z"
    },
    "papermill": {
     "duration": 2.036489,
     "end_time": "2023-04-28T09:03:10.960774",
     "exception": false,
     "start_time": "2023-04-28T09:03:08.924285",
     "status": "completed"
    },
    "tags": []
   },
   "outputs": [
    {
     "data": {
      "text/html": [
       "<div>\n",
       "<style scoped>\n",
       "    .dataframe tbody tr th:only-of-type {\n",
       "        vertical-align: middle;\n",
       "    }\n",
       "\n",
       "    .dataframe tbody tr th {\n",
       "        vertical-align: top;\n",
       "    }\n",
       "\n",
       "    .dataframe thead th {\n",
       "        text-align: right;\n",
       "    }\n",
       "</style>\n",
       "<table border=\"1\" class=\"dataframe\">\n",
       "  <thead>\n",
       "    <tr style=\"text-align: right;\">\n",
       "      <th></th>\n",
       "      <th>label</th>\n",
       "      <th>pixel0</th>\n",
       "      <th>pixel1</th>\n",
       "      <th>pixel2</th>\n",
       "      <th>pixel3</th>\n",
       "      <th>pixel4</th>\n",
       "      <th>pixel5</th>\n",
       "      <th>pixel6</th>\n",
       "      <th>pixel7</th>\n",
       "      <th>pixel8</th>\n",
       "      <th>...</th>\n",
       "      <th>pixel774</th>\n",
       "      <th>pixel775</th>\n",
       "      <th>pixel776</th>\n",
       "      <th>pixel777</th>\n",
       "      <th>pixel778</th>\n",
       "      <th>pixel779</th>\n",
       "      <th>pixel780</th>\n",
       "      <th>pixel781</th>\n",
       "      <th>pixel782</th>\n",
       "      <th>pixel783</th>\n",
       "    </tr>\n",
       "  </thead>\n",
       "  <tbody>\n",
       "    <tr>\n",
       "      <th>count</th>\n",
       "      <td>42000.000000</td>\n",
       "      <td>42000.0</td>\n",
       "      <td>42000.0</td>\n",
       "      <td>42000.0</td>\n",
       "      <td>42000.0</td>\n",
       "      <td>42000.0</td>\n",
       "      <td>42000.0</td>\n",
       "      <td>42000.0</td>\n",
       "      <td>42000.0</td>\n",
       "      <td>42000.0</td>\n",
       "      <td>...</td>\n",
       "      <td>42000.000000</td>\n",
       "      <td>42000.000000</td>\n",
       "      <td>42000.000000</td>\n",
       "      <td>42000.00000</td>\n",
       "      <td>42000.000000</td>\n",
       "      <td>42000.000000</td>\n",
       "      <td>42000.0</td>\n",
       "      <td>42000.0</td>\n",
       "      <td>42000.0</td>\n",
       "      <td>42000.0</td>\n",
       "    </tr>\n",
       "    <tr>\n",
       "      <th>mean</th>\n",
       "      <td>4.456643</td>\n",
       "      <td>0.0</td>\n",
       "      <td>0.0</td>\n",
       "      <td>0.0</td>\n",
       "      <td>0.0</td>\n",
       "      <td>0.0</td>\n",
       "      <td>0.0</td>\n",
       "      <td>0.0</td>\n",
       "      <td>0.0</td>\n",
       "      <td>0.0</td>\n",
       "      <td>...</td>\n",
       "      <td>0.219286</td>\n",
       "      <td>0.117095</td>\n",
       "      <td>0.059024</td>\n",
       "      <td>0.02019</td>\n",
       "      <td>0.017238</td>\n",
       "      <td>0.002857</td>\n",
       "      <td>0.0</td>\n",
       "      <td>0.0</td>\n",
       "      <td>0.0</td>\n",
       "      <td>0.0</td>\n",
       "    </tr>\n",
       "    <tr>\n",
       "      <th>std</th>\n",
       "      <td>2.887730</td>\n",
       "      <td>0.0</td>\n",
       "      <td>0.0</td>\n",
       "      <td>0.0</td>\n",
       "      <td>0.0</td>\n",
       "      <td>0.0</td>\n",
       "      <td>0.0</td>\n",
       "      <td>0.0</td>\n",
       "      <td>0.0</td>\n",
       "      <td>0.0</td>\n",
       "      <td>...</td>\n",
       "      <td>6.312890</td>\n",
       "      <td>4.633819</td>\n",
       "      <td>3.274488</td>\n",
       "      <td>1.75987</td>\n",
       "      <td>1.894498</td>\n",
       "      <td>0.414264</td>\n",
       "      <td>0.0</td>\n",
       "      <td>0.0</td>\n",
       "      <td>0.0</td>\n",
       "      <td>0.0</td>\n",
       "    </tr>\n",
       "    <tr>\n",
       "      <th>min</th>\n",
       "      <td>0.000000</td>\n",
       "      <td>0.0</td>\n",
       "      <td>0.0</td>\n",
       "      <td>0.0</td>\n",
       "      <td>0.0</td>\n",
       "      <td>0.0</td>\n",
       "      <td>0.0</td>\n",
       "      <td>0.0</td>\n",
       "      <td>0.0</td>\n",
       "      <td>0.0</td>\n",
       "      <td>...</td>\n",
       "      <td>0.000000</td>\n",
       "      <td>0.000000</td>\n",
       "      <td>0.000000</td>\n",
       "      <td>0.00000</td>\n",
       "      <td>0.000000</td>\n",
       "      <td>0.000000</td>\n",
       "      <td>0.0</td>\n",
       "      <td>0.0</td>\n",
       "      <td>0.0</td>\n",
       "      <td>0.0</td>\n",
       "    </tr>\n",
       "    <tr>\n",
       "      <th>25%</th>\n",
       "      <td>2.000000</td>\n",
       "      <td>0.0</td>\n",
       "      <td>0.0</td>\n",
       "      <td>0.0</td>\n",
       "      <td>0.0</td>\n",
       "      <td>0.0</td>\n",
       "      <td>0.0</td>\n",
       "      <td>0.0</td>\n",
       "      <td>0.0</td>\n",
       "      <td>0.0</td>\n",
       "      <td>...</td>\n",
       "      <td>0.000000</td>\n",
       "      <td>0.000000</td>\n",
       "      <td>0.000000</td>\n",
       "      <td>0.00000</td>\n",
       "      <td>0.000000</td>\n",
       "      <td>0.000000</td>\n",
       "      <td>0.0</td>\n",
       "      <td>0.0</td>\n",
       "      <td>0.0</td>\n",
       "      <td>0.0</td>\n",
       "    </tr>\n",
       "    <tr>\n",
       "      <th>50%</th>\n",
       "      <td>4.000000</td>\n",
       "      <td>0.0</td>\n",
       "      <td>0.0</td>\n",
       "      <td>0.0</td>\n",
       "      <td>0.0</td>\n",
       "      <td>0.0</td>\n",
       "      <td>0.0</td>\n",
       "      <td>0.0</td>\n",
       "      <td>0.0</td>\n",
       "      <td>0.0</td>\n",
       "      <td>...</td>\n",
       "      <td>0.000000</td>\n",
       "      <td>0.000000</td>\n",
       "      <td>0.000000</td>\n",
       "      <td>0.00000</td>\n",
       "      <td>0.000000</td>\n",
       "      <td>0.000000</td>\n",
       "      <td>0.0</td>\n",
       "      <td>0.0</td>\n",
       "      <td>0.0</td>\n",
       "      <td>0.0</td>\n",
       "    </tr>\n",
       "    <tr>\n",
       "      <th>75%</th>\n",
       "      <td>7.000000</td>\n",
       "      <td>0.0</td>\n",
       "      <td>0.0</td>\n",
       "      <td>0.0</td>\n",
       "      <td>0.0</td>\n",
       "      <td>0.0</td>\n",
       "      <td>0.0</td>\n",
       "      <td>0.0</td>\n",
       "      <td>0.0</td>\n",
       "      <td>0.0</td>\n",
       "      <td>...</td>\n",
       "      <td>0.000000</td>\n",
       "      <td>0.000000</td>\n",
       "      <td>0.000000</td>\n",
       "      <td>0.00000</td>\n",
       "      <td>0.000000</td>\n",
       "      <td>0.000000</td>\n",
       "      <td>0.0</td>\n",
       "      <td>0.0</td>\n",
       "      <td>0.0</td>\n",
       "      <td>0.0</td>\n",
       "    </tr>\n",
       "    <tr>\n",
       "      <th>max</th>\n",
       "      <td>9.000000</td>\n",
       "      <td>0.0</td>\n",
       "      <td>0.0</td>\n",
       "      <td>0.0</td>\n",
       "      <td>0.0</td>\n",
       "      <td>0.0</td>\n",
       "      <td>0.0</td>\n",
       "      <td>0.0</td>\n",
       "      <td>0.0</td>\n",
       "      <td>0.0</td>\n",
       "      <td>...</td>\n",
       "      <td>254.000000</td>\n",
       "      <td>254.000000</td>\n",
       "      <td>253.000000</td>\n",
       "      <td>253.00000</td>\n",
       "      <td>254.000000</td>\n",
       "      <td>62.000000</td>\n",
       "      <td>0.0</td>\n",
       "      <td>0.0</td>\n",
       "      <td>0.0</td>\n",
       "      <td>0.0</td>\n",
       "    </tr>\n",
       "  </tbody>\n",
       "</table>\n",
       "<p>8 rows × 785 columns</p>\n",
       "</div>"
      ],
      "text/plain": [
       "              label   pixel0   pixel1   pixel2   pixel3   pixel4   pixel5  \\\n",
       "count  42000.000000  42000.0  42000.0  42000.0  42000.0  42000.0  42000.0   \n",
       "mean       4.456643      0.0      0.0      0.0      0.0      0.0      0.0   \n",
       "std        2.887730      0.0      0.0      0.0      0.0      0.0      0.0   \n",
       "min        0.000000      0.0      0.0      0.0      0.0      0.0      0.0   \n",
       "25%        2.000000      0.0      0.0      0.0      0.0      0.0      0.0   \n",
       "50%        4.000000      0.0      0.0      0.0      0.0      0.0      0.0   \n",
       "75%        7.000000      0.0      0.0      0.0      0.0      0.0      0.0   \n",
       "max        9.000000      0.0      0.0      0.0      0.0      0.0      0.0   \n",
       "\n",
       "        pixel6   pixel7   pixel8  ...      pixel774      pixel775  \\\n",
       "count  42000.0  42000.0  42000.0  ...  42000.000000  42000.000000   \n",
       "mean       0.0      0.0      0.0  ...      0.219286      0.117095   \n",
       "std        0.0      0.0      0.0  ...      6.312890      4.633819   \n",
       "min        0.0      0.0      0.0  ...      0.000000      0.000000   \n",
       "25%        0.0      0.0      0.0  ...      0.000000      0.000000   \n",
       "50%        0.0      0.0      0.0  ...      0.000000      0.000000   \n",
       "75%        0.0      0.0      0.0  ...      0.000000      0.000000   \n",
       "max        0.0      0.0      0.0  ...    254.000000    254.000000   \n",
       "\n",
       "           pixel776     pixel777      pixel778      pixel779  pixel780  \\\n",
       "count  42000.000000  42000.00000  42000.000000  42000.000000   42000.0   \n",
       "mean       0.059024      0.02019      0.017238      0.002857       0.0   \n",
       "std        3.274488      1.75987      1.894498      0.414264       0.0   \n",
       "min        0.000000      0.00000      0.000000      0.000000       0.0   \n",
       "25%        0.000000      0.00000      0.000000      0.000000       0.0   \n",
       "50%        0.000000      0.00000      0.000000      0.000000       0.0   \n",
       "75%        0.000000      0.00000      0.000000      0.000000       0.0   \n",
       "max      253.000000    253.00000    254.000000     62.000000       0.0   \n",
       "\n",
       "       pixel781  pixel782  pixel783  \n",
       "count   42000.0   42000.0   42000.0  \n",
       "mean        0.0       0.0       0.0  \n",
       "std         0.0       0.0       0.0  \n",
       "min         0.0       0.0       0.0  \n",
       "25%         0.0       0.0       0.0  \n",
       "50%         0.0       0.0       0.0  \n",
       "75%         0.0       0.0       0.0  \n",
       "max         0.0       0.0       0.0  \n",
       "\n",
       "[8 rows x 785 columns]"
      ]
     },
     "execution_count": 4,
     "metadata": {},
     "output_type": "execute_result"
    }
   ],
   "source": [
    "mnist_training.describe()"
   ]
  },
  {
   "cell_type": "markdown",
   "id": "05cba0e8",
   "metadata": {
    "papermill": {
     "duration": 0.007426,
     "end_time": "2023-04-28T09:03:10.976636",
     "exception": false,
     "start_time": "2023-04-28T09:03:10.969210",
     "status": "completed"
    },
    "tags": []
   },
   "source": [
    "The pixel values range from 0 to 255. We can rescale this to the interval [0,1]. We will do this in a few moments. The first column is the label of the handwritten digit we aim to identify. There are 784 columns following the label, each one respresenting one of the 784 pixels. The pictures are of size 28x28, giving us 784 columns. Looking at the \"count\" of each column, we see that we have a total of 42 000 training samples. Next we can look at the possible label values."
   ]
  },
  {
   "cell_type": "code",
   "execution_count": 5,
   "id": "78284cca",
   "metadata": {
    "execution": {
     "iopub.execute_input": "2023-04-28T09:03:10.992158Z",
     "iopub.status.busy": "2023-04-28T09:03:10.991795Z",
     "iopub.status.idle": "2023-04-28T09:03:11.000230Z",
     "shell.execute_reply": "2023-04-28T09:03:10.999174Z"
    },
    "papermill": {
     "duration": 0.018657,
     "end_time": "2023-04-28T09:03:11.002479",
     "exception": false,
     "start_time": "2023-04-28T09:03:10.983822",
     "status": "completed"
    },
    "tags": []
   },
   "outputs": [
    {
     "data": {
      "text/plain": [
       "array([1, 0, 4, 7, 3, 5, 8, 9, 2, 6])"
      ]
     },
     "execution_count": 5,
     "metadata": {},
     "output_type": "execute_result"
    }
   ],
   "source": [
    "mnist_training['label'].unique()"
   ]
  },
  {
   "cell_type": "markdown",
   "id": "925f8b99",
   "metadata": {
    "papermill": {
     "duration": 0.006857,
     "end_time": "2023-04-28T09:03:11.016089",
     "exception": false,
     "start_time": "2023-04-28T09:03:11.009232",
     "status": "completed"
    },
    "tags": []
   },
   "source": [
    "As can be seen, each digit from 0 to 9 is represented in our dataset. Are they evenly distributed or is our dataset unbalanced?"
   ]
  },
  {
   "cell_type": "code",
   "execution_count": 6,
   "id": "86b219c1",
   "metadata": {
    "execution": {
     "iopub.execute_input": "2023-04-28T09:03:11.030772Z",
     "iopub.status.busy": "2023-04-28T09:03:11.030449Z",
     "iopub.status.idle": "2023-04-28T09:03:11.269298Z",
     "shell.execute_reply": "2023-04-28T09:03:11.268184Z"
    },
    "papermill": {
     "duration": 0.248625,
     "end_time": "2023-04-28T09:03:11.271439",
     "exception": false,
     "start_time": "2023-04-28T09:03:11.022814",
     "status": "completed"
    },
    "tags": []
   },
   "outputs": [
    {
     "data": {
      "image/png": "[encoded data removed]",
      "text/plain": [
       "<Figure size 640x480 with 1 Axes>"
      ]
     },
     "metadata": {},
     "output_type": "display_data"
    }
   ],
   "source": [
    "plt.hist(mnist_training['label'], bins=range(11), rwidth=0.6, align='left')\n",
    "plt.xticks(range(10))\n",
    "plt.title(\"Distribution of labels across training data\")\n",
    "plt.ylabel('Occurences')\n",
    "plt.xlabel('Labels')\n",
    "plt.show()"
   ]
  },
  {
   "cell_type": "markdown",
   "id": "ca888ae0",
   "metadata": {
    "papermill": {
     "duration": 0.00678,
     "end_time": "2023-04-28T09:03:11.285407",
     "exception": false,
     "start_time": "2023-04-28T09:03:11.278627",
     "status": "completed"
    },
    "tags": []
   },
   "source": [
    "The data look balanced! We can also do a visual inspection of our explanatory data, to better understand it and how we will solve the problem. Let us plot the first 25 instances."
   ]
  },
  {
   "cell_type": "code",
   "execution_count": 7,
   "id": "0e50caad",
   "metadata": {
    "execution": {
     "iopub.execute_input": "2023-04-28T09:03:11.301157Z",
     "iopub.status.busy": "2023-04-28T09:03:11.300134Z",
     "iopub.status.idle": "2023-04-28T09:03:11.995589Z",
     "shell.execute_reply": "2023-04-28T09:03:11.994088Z"
    },
    "papermill": {
     "duration": 0.70808,
     "end_time": "2023-04-28T09:03:12.000271",
     "exception": false,
     "start_time": "2023-04-28T09:03:11.292191",
     "status": "completed"
    },
    "tags": []
   },
   "outputs": [
    {
     "data": {
      "image/png": "[encoded data removed]",
      "text/plain": [
       "<Figure size 300x300 with 25 Axes>"
      ]
     },
     "metadata": {},
     "output_type": "display_data"
    }
   ],
   "source": [
    "plt.figure(figsize=(3,3)) #Setting the size for the figure\n",
    "for digit_num in range(25): #Getting  the first 25 images\n",
    "    plt.subplot(7,5,digit_num+1)\n",
    "    grid_data = mnist_training.iloc[digit_num,1:].to_numpy().reshape(28,28)\n",
    "    plt.imshow(grid_data, interpolation = \"none\", cmap = plt.cm.binary)\n",
    "    plt.axis('off')\n",
    "plt.tight_layout()\n",
    "plt.show()"
   ]
  },
  {
   "cell_type": "markdown",
   "id": "fc7adc80",
   "metadata": {
    "papermill": {
     "duration": 0.007332,
     "end_time": "2023-04-28T09:03:12.019833",
     "exception": false,
     "start_time": "2023-04-28T09:03:12.012501",
     "status": "completed"
    },
    "tags": []
   },
   "source": [
    "### Data Preperation"
   ]
  },
  {
   "cell_type": "markdown",
   "id": "d1307aca",
   "metadata": {
    "papermill": {
     "duration": 0.007123,
     "end_time": "2023-04-28T09:03:12.034717",
     "exception": false,
     "start_time": "2023-04-28T09:03:12.027594",
     "status": "completed"
    },
    "tags": []
   },
   "source": [
    "Before we start building the model, we can split the data into training and validation data. This will help us prevent overfitting of our neural network."
   ]
  },
  {
   "cell_type": "code",
   "execution_count": 8,
   "id": "04dab81e",
   "metadata": {
    "execution": {
     "iopub.execute_input": "2023-04-28T09:03:12.050831Z",
     "iopub.status.busy": "2023-04-28T09:03:12.050442Z",
     "iopub.status.idle": "2023-04-28T09:03:12.537347Z",
     "shell.execute_reply": "2023-04-28T09:03:12.536282Z"
    },
    "papermill": {
     "duration": 0.497923,
     "end_time": "2023-04-28T09:03:12.539936",
     "exception": false,
     "start_time": "2023-04-28T09:03:12.042013",
     "status": "completed"
    },
    "tags": []
   },
   "outputs": [],
   "source": [
    "#Setting X to pictures and y to labels\n",
    "X = mnist_training.iloc[:,1:]\n",
    "y = mnist_training.iloc[:,0]\n",
    "\n",
    "#Let us reshape the data to 28x28\n",
    "X = X.values.reshape(-1, 28, 28, 1)\n",
    "\n",
    "#Let us rescale the values from 0-255 to 0-1\n",
    "X = X/255.0\n",
    "\n",
    "#Splitting the training data into traizning and validation data.\n",
    "X_train,X_validation,y_train,y_validation = train_test_split(X,y,test_size = 0.2, random_state = 10)"
   ]
  },
  {
   "cell_type": "markdown",
   "id": "ccaa697e",
   "metadata": {
    "papermill": {
     "duration": 0.006949,
     "end_time": "2023-04-28T09:03:12.554675",
     "exception": false,
     "start_time": "2023-04-28T09:03:12.547726",
     "status": "completed"
    },
    "tags": []
   },
   "source": [
    "We can increase our dataset a lot by applying various permuations to our images. We use ImageDataGenerator for this"
   ]
  },
  {
   "cell_type": "code",
   "execution_count": 9,
   "id": "07cb88dd",
   "metadata": {
    "execution": {
     "iopub.execute_input": "2023-04-28T09:03:12.572397Z",
     "iopub.status.busy": "2023-04-28T09:03:12.570958Z",
     "iopub.status.idle": "2023-04-28T09:03:12.659894Z",
     "shell.execute_reply": "2023-04-28T09:03:12.658630Z"
    },
    "papermill": {
     "duration": 0.102226,
     "end_time": "2023-04-28T09:03:12.664771",
     "exception": false,
     "start_time": "2023-04-28T09:03:12.562545",
     "status": "completed"
    },
    "tags": []
   },
   "outputs": [],
   "source": [
    "datagen = ImageDataGenerator(\n",
    "        rotation_range=20,  # randomly rotate images in the range 20 degrees\n",
    "        zoom_range = 0.2, # Randomly zoom image 20%\n",
    "        width_shift_range=0.2,  # randomly shift images horizontally 20%\n",
    "        height_shift_range=0.2,  # randomly shift images vertically 20%\n",
    "        shear_range=0.2) #shear intensity 20%\n",
    "\n",
    "\n",
    "datagen.fit(X_train)"
   ]
  },
  {
   "cell_type": "markdown",
   "id": "b835a477",
   "metadata": {
    "papermill": {
     "duration": 0.007406,
     "end_time": "2023-04-28T09:03:12.684635",
     "exception": false,
     "start_time": "2023-04-28T09:03:12.677229",
     "status": "completed"
    },
    "tags": []
   },
   "source": [
    "### Definig a callback"
   ]
  },
  {
   "cell_type": "markdown",
   "id": "781ddc46",
   "metadata": {
    "papermill": {
     "duration": 0.011719,
     "end_time": "2023-04-28T09:03:12.707736",
     "exception": false,
     "start_time": "2023-04-28T09:03:12.696017",
     "status": "completed"
    },
    "tags": []
   },
   "source": [
    "We are content with an accuracy of 0.999 on the validation set, which will give a solid rank at the leaderboard. Hitting this level of accuracy during training it will stop, potentially saving us for some time and decrease the risk of overfitting."
   ]
  },
  {
   "cell_type": "code",
   "execution_count": 10,
   "id": "9e9e0579",
   "metadata": {
    "execution": {
     "iopub.execute_input": "2023-04-28T09:03:12.723985Z",
     "iopub.status.busy": "2023-04-28T09:03:12.723614Z",
     "iopub.status.idle": "2023-04-28T09:03:12.729526Z",
     "shell.execute_reply": "2023-04-28T09:03:12.728488Z"
    },
    "papermill": {
     "duration": 0.016437,
     "end_time": "2023-04-28T09:03:12.731633",
     "exception": false,
     "start_time": "2023-04-28T09:03:12.715196",
     "status": "completed"
    },
    "tags": []
   },
   "outputs": [],
   "source": [
    "#Define an accuracy callback\n",
    "class myAccuracyCallback(tf.keras.callbacks.Callback):\n",
    "        # Define the correct function signature for on_epoch_end\n",
    "        def on_epoch_end(self, epoch, logs={}):\n",
    "            if logs.get('val_accuracy') is not None and logs.get('val_accuracy') > 0.999:\n",
    "                print(\"\\nReached 99.9% accuracy so cancelling training!\") \n",
    "                \n",
    "                # Stop training once the above condition is met\n",
    "                self.model.stop_training = True"
   ]
  },
  {
   "cell_type": "markdown",
   "id": "77ddbd3c",
   "metadata": {
    "papermill": {
     "duration": 0.007104,
     "end_time": "2023-04-28T09:03:12.745850",
     "exception": false,
     "start_time": "2023-04-28T09:03:12.738746",
     "status": "completed"
    },
    "tags": []
   },
   "source": [
    "### Building a Neural Network"
   ]
  },
  {
   "cell_type": "markdown",
   "id": "38f67762",
   "metadata": {
    "papermill": {
     "duration": 0.006981,
     "end_time": "2023-04-28T09:03:12.759956",
     "exception": false,
     "start_time": "2023-04-28T09:03:12.752975",
     "status": "completed"
    },
    "tags": []
   },
   "source": [
    "We now begin building our model. We use three convolutional layers, with an increasing amount of filters. In between, we employ max pooling layers to reduce the number of parameters. The second part of the network consists of three dense layer. Finally we have an output to a dense layer of 10 units, one for each digit. Using the softmax activation function, we ensure that the output to each unit sum to 1."
   ]
  },
  {
   "cell_type": "code",
   "execution_count": 11,
   "id": "c3fe29af",
   "metadata": {
    "execution": {
     "iopub.execute_input": "2023-04-28T09:03:12.776306Z",
     "iopub.status.busy": "2023-04-28T09:03:12.775612Z",
     "iopub.status.idle": "2023-04-28T09:03:16.455354Z",
     "shell.execute_reply": "2023-04-28T09:03:16.454366Z"
    },
    "papermill": {
     "duration": 3.690715,
     "end_time": "2023-04-28T09:03:16.457865",
     "exception": false,
     "start_time": "2023-04-28T09:03:12.767150",
     "status": "completed"
    },
    "tags": []
   },
   "outputs": [],
   "source": [
    "#Initialize hyperparameters\n",
    "EPOCHS = 50\n",
    "BATCH_SIZE = 250\n",
    "\n",
    "# Instantiate the callback class\n",
    "accuracyCallbacks = myAccuracyCallback()\n",
    "\n",
    "# Define the model\n",
    "model = tf.keras.models.Sequential([\n",
    "    \n",
    "    tf.keras.layers.Conv2D(64, 7, activation='relu', padding='same', input_shape=[28, 28, 1]),\n",
    "    tf.keras.layers.MaxPooling2D(2), #Maxpooling to reduce the parameters\n",
    "    \n",
    "    tf.keras.layers.Conv2D(128, 3, activation='relu', padding='same'),\n",
    "    tf.keras.layers.MaxPooling2D(2), #Maxpooling to reduce the parameters\n",
    "    \n",
    "    tf.keras.layers.Conv2D(256, 3, activation='relu', padding='same'),\n",
    "    tf.keras.layers.MaxPooling2D(2), #Maxpooling to reduce the parameters\n",
    "    \n",
    "    tf.keras.layers.Flatten(),\n",
    "    \n",
    "    #Dense layers\n",
    "    tf.keras.layers.Dense(512, activation='relu'),\n",
    "    tf.keras.layers.Dropout(rate=0.3),\n",
    "    \n",
    "    tf.keras.layers.Dense(256, activation='relu'),\n",
    "    tf.keras.layers.Dropout(rate=0.3),\n",
    "    \n",
    "    tf.keras.layers.Dense(128, activation='relu'),\n",
    "    \n",
    "    tf.keras.layers.Dropout(rate=0.3),\n",
    "    #output layer\n",
    "    tf.keras.layers.Dense(10, activation='softmax')\n",
    "])"
   ]
  },
  {
   "cell_type": "code",
   "execution_count": 12,
   "id": "ec054186",
   "metadata": {
    "execution": {
     "iopub.execute_input": "2023-04-28T09:03:16.476789Z",
     "iopub.status.busy": "2023-04-28T09:03:16.476467Z",
     "iopub.status.idle": "2023-04-28T09:03:16.493449Z",
     "shell.execute_reply": "2023-04-28T09:03:16.492286Z"
    },
    "papermill": {
     "duration": 0.028396,
     "end_time": "2023-04-28T09:03:16.495635",
     "exception": false,
     "start_time": "2023-04-28T09:03:16.467239",
     "status": "completed"
    },
    "tags": []
   },
   "outputs": [],
   "source": [
    "# Compile the model\n",
    "model.compile(optimizer='adam', \n",
    "              loss='sparse_categorical_crossentropy', \n",
    "              metrics=['accuracy']) "
   ]
  },
  {
   "cell_type": "code",
   "execution_count": 13,
   "id": "871c9d00",
   "metadata": {
    "execution": {
     "iopub.execute_input": "2023-04-28T09:03:16.511955Z",
     "iopub.status.busy": "2023-04-28T09:03:16.511038Z",
     "iopub.status.idle": "2023-04-28T09:13:14.951131Z",
     "shell.execute_reply": "2023-04-28T09:13:14.950083Z"
    },
    "papermill": {
     "duration": 598.450494,
     "end_time": "2023-04-28T09:13:14.953347",
     "exception": false,
     "start_time": "2023-04-28T09:03:16.502853",
     "status": "completed"
    },
    "tags": []
   },
   "outputs": [
    {
     "name": "stdout",
     "output_type": "stream",
     "text": [
      "Epoch 1/50\n",
      "134/134 [==============================] - 23s 88ms/step - loss: 1.1527 - accuracy: 0.5942 - val_loss: 0.1514 - val_accuracy: 0.9538\n",
      "Epoch 2/50\n",
      "134/134 [==============================] - 12s 86ms/step - loss: 0.2734 - accuracy: 0.9196 - val_loss: 0.0653 - val_accuracy: 0.9795\n",
      "Epoch 3/50\n",
      "134/134 [==============================] - 11s 81ms/step - loss: 0.1817 - accuracy: 0.9467 - val_loss: 0.0647 - val_accuracy: 0.9795\n",
      "Epoch 4/50\n",
      "134/134 [==============================] - 11s 85ms/step - loss: 0.1305 - accuracy: 0.9621 - val_loss: 0.0425 - val_accuracy: 0.9865\n",
      "Epoch 5/50\n",
      "134/134 [==============================] - 12s 86ms/step - loss: 0.1148 - accuracy: 0.9673 - val_loss: 0.0477 - val_accuracy: 0.9855\n",
      "Epoch 6/50\n",
      "134/134 [==============================] - 11s 85ms/step - loss: 0.1011 - accuracy: 0.9712 - val_loss: 0.0337 - val_accuracy: 0.9883\n",
      "Epoch 7/50\n",
      "134/134 [==============================] - 11s 85ms/step - loss: 0.0943 - accuracy: 0.9740 - val_loss: 0.0358 - val_accuracy: 0.9900\n",
      "Epoch 8/50\n",
      "134/134 [==============================] - 11s 80ms/step - loss: 0.0785 - accuracy: 0.9779 - val_loss: 0.0326 - val_accuracy: 0.9902\n",
      "Epoch 9/50\n",
      "134/134 [==============================] - 12s 86ms/step - loss: 0.0757 - accuracy: 0.9787 - val_loss: 0.0341 - val_accuracy: 0.9895\n",
      "Epoch 10/50\n",
      "134/134 [==============================] - 11s 82ms/step - loss: 0.0728 - accuracy: 0.9796 - val_loss: 0.0435 - val_accuracy: 0.9886\n",
      "Epoch 11/50\n",
      "134/134 [==============================] - 11s 83ms/step - loss: 0.0705 - accuracy: 0.9796 - val_loss: 0.0305 - val_accuracy: 0.9908\n",
      "Epoch 12/50\n",
      "134/134 [==============================] - 12s 89ms/step - loss: 0.0670 - accuracy: 0.9817 - val_loss: 0.0283 - val_accuracy: 0.9921\n",
      "Epoch 13/50\n",
      "134/134 [==============================] - 11s 80ms/step - loss: 0.0617 - accuracy: 0.9826 - val_loss: 0.0269 - val_accuracy: 0.9925\n",
      "Epoch 14/50\n",
      "134/134 [==============================] - 11s 81ms/step - loss: 0.0605 - accuracy: 0.9830 - val_loss: 0.0264 - val_accuracy: 0.9925\n",
      "Epoch 15/50\n",
      "134/134 [==============================] - 12s 89ms/step - loss: 0.0573 - accuracy: 0.9842 - val_loss: 0.0255 - val_accuracy: 0.9930\n",
      "Epoch 16/50\n",
      "134/134 [==============================] - 11s 80ms/step - loss: 0.0526 - accuracy: 0.9846 - val_loss: 0.0226 - val_accuracy: 0.9942\n",
      "Epoch 17/50\n",
      "134/134 [==============================] - 11s 80ms/step - loss: 0.0526 - accuracy: 0.9856 - val_loss: 0.0252 - val_accuracy: 0.9932\n",
      "Epoch 18/50\n",
      "134/134 [==============================] - 12s 86ms/step - loss: 0.0522 - accuracy: 0.9847 - val_loss: 0.0233 - val_accuracy: 0.9938\n",
      "Epoch 19/50\n",
      "134/134 [==============================] - 11s 81ms/step - loss: 0.0495 - accuracy: 0.9854 - val_loss: 0.0272 - val_accuracy: 0.9919\n",
      "Epoch 20/50\n",
      "134/134 [==============================] - 11s 85ms/step - loss: 0.0489 - accuracy: 0.9866 - val_loss: 0.0218 - val_accuracy: 0.9945\n",
      "Epoch 21/50\n",
      "134/134 [==============================] - 12s 87ms/step - loss: 0.0467 - accuracy: 0.9868 - val_loss: 0.0235 - val_accuracy: 0.9937\n",
      "Epoch 22/50\n",
      "134/134 [==============================] - 11s 81ms/step - loss: 0.0471 - accuracy: 0.9874 - val_loss: 0.0235 - val_accuracy: 0.9938\n",
      "Epoch 23/50\n",
      "134/134 [==============================] - 12s 91ms/step - loss: 0.0476 - accuracy: 0.9860 - val_loss: 0.0244 - val_accuracy: 0.9927\n",
      "Epoch 24/50\n",
      "134/134 [==============================] - 11s 82ms/step - loss: 0.0465 - accuracy: 0.9871 - val_loss: 0.0291 - val_accuracy: 0.9921\n",
      "Epoch 25/50\n",
      "134/134 [==============================] - 11s 81ms/step - loss: 0.0427 - accuracy: 0.9880 - val_loss: 0.0276 - val_accuracy: 0.9932\n",
      "Epoch 26/50\n",
      "134/134 [==============================] - 12s 88ms/step - loss: 0.0411 - accuracy: 0.9881 - val_loss: 0.0179 - val_accuracy: 0.9957\n",
      "Epoch 27/50\n",
      "134/134 [==============================] - 12s 86ms/step - loss: 0.0418 - accuracy: 0.9887 - val_loss: 0.0241 - val_accuracy: 0.9944\n",
      "Epoch 28/50\n",
      "134/134 [==============================] - 11s 82ms/step - loss: 0.0434 - accuracy: 0.9871 - val_loss: 0.0178 - val_accuracy: 0.9949\n",
      "Epoch 29/50\n",
      "134/134 [==============================] - 12s 92ms/step - loss: 0.0405 - accuracy: 0.9890 - val_loss: 0.0188 - val_accuracy: 0.9945\n",
      "Epoch 30/50\n",
      "134/134 [==============================] - 11s 81ms/step - loss: 0.0398 - accuracy: 0.9891 - val_loss: 0.0236 - val_accuracy: 0.9945\n",
      "Epoch 31/50\n",
      "134/134 [==============================] - 12s 90ms/step - loss: 0.0407 - accuracy: 0.9888 - val_loss: 0.0276 - val_accuracy: 0.9918\n",
      "Epoch 32/50\n",
      "134/134 [==============================] - 11s 81ms/step - loss: 0.0353 - accuracy: 0.9900 - val_loss: 0.0289 - val_accuracy: 0.9936\n",
      "Epoch 33/50\n",
      "134/134 [==============================] - 11s 84ms/step - loss: 0.0392 - accuracy: 0.9894 - val_loss: 0.0266 - val_accuracy: 0.9931\n",
      "Epoch 34/50\n",
      "134/134 [==============================] - 11s 80ms/step - loss: 0.0342 - accuracy: 0.9904 - val_loss: 0.0283 - val_accuracy: 0.9925\n",
      "Epoch 35/50\n",
      "134/134 [==============================] - 11s 82ms/step - loss: 0.0340 - accuracy: 0.9901 - val_loss: 0.0266 - val_accuracy: 0.9935\n",
      "Epoch 36/50\n",
      "134/134 [==============================] - 12s 88ms/step - loss: 0.0348 - accuracy: 0.9903 - val_loss: 0.0194 - val_accuracy: 0.9950\n",
      "Epoch 37/50\n",
      "134/134 [==============================] - 11s 85ms/step - loss: 0.0373 - accuracy: 0.9901 - val_loss: 0.0236 - val_accuracy: 0.9949\n",
      "Epoch 38/50\n",
      "134/134 [==============================] - 11s 84ms/step - loss: 0.0381 - accuracy: 0.9897 - val_loss: 0.0231 - val_accuracy: 0.9949\n",
      "Epoch 39/50\n",
      "134/134 [==============================] - 12s 90ms/step - loss: 0.0337 - accuracy: 0.9906 - val_loss: 0.0245 - val_accuracy: 0.9943\n",
      "Epoch 40/50\n",
      "134/134 [==============================] - 11s 81ms/step - loss: 0.0339 - accuracy: 0.9903 - val_loss: 0.0250 - val_accuracy: 0.9951\n",
      "Epoch 41/50\n",
      "134/134 [==============================] - 11s 82ms/step - loss: 0.0326 - accuracy: 0.9904 - val_loss: 0.0249 - val_accuracy: 0.9943\n",
      "Epoch 42/50\n",
      "134/134 [==============================] - 12s 90ms/step - loss: 0.0290 - accuracy: 0.9917 - val_loss: 0.0246 - val_accuracy: 0.9950\n",
      "Epoch 43/50\n",
      "134/134 [==============================] - 11s 81ms/step - loss: 0.0311 - accuracy: 0.9909 - val_loss: 0.0193 - val_accuracy: 0.9951\n",
      "Epoch 44/50\n",
      "134/134 [==============================] - 12s 87ms/step - loss: 0.0323 - accuracy: 0.9914 - val_loss: 0.0222 - val_accuracy: 0.9943\n",
      "Epoch 45/50\n",
      "134/134 [==============================] - 11s 82ms/step - loss: 0.0336 - accuracy: 0.9911 - val_loss: 0.0279 - val_accuracy: 0.9948\n",
      "Epoch 46/50\n",
      "134/134 [==============================] - 12s 88ms/step - loss: 0.0327 - accuracy: 0.9905 - val_loss: 0.0228 - val_accuracy: 0.9946\n",
      "Epoch 47/50\n",
      "134/134 [==============================] - 11s 85ms/step - loss: 0.0303 - accuracy: 0.9926 - val_loss: 0.0205 - val_accuracy: 0.9948\n",
      "Epoch 48/50\n",
      "134/134 [==============================] - 12s 86ms/step - loss: 0.0303 - accuracy: 0.9916 - val_loss: 0.0177 - val_accuracy: 0.9946\n",
      "Epoch 49/50\n",
      "134/134 [==============================] - 12s 93ms/step - loss: 0.0309 - accuracy: 0.9916 - val_loss: 0.0211 - val_accuracy: 0.9944\n",
      "Epoch 50/50\n",
      "134/134 [==============================] - 11s 81ms/step - loss: 0.0301 - accuracy: 0.9916 - val_loss: 0.0208 - val_accuracy: 0.9946\n"
     ]
    }
   ],
   "source": [
    "# Fit the model adding the callback and save the training history\n",
    "history = model.fit(datagen.flow(X_train, y_train, batch_size=BATCH_SIZE), \n",
    "                    validation_data=(X_validation, y_validation), \n",
    "                    steps_per_epoch=len(X_train)/BATCH_SIZE,\n",
    "                    epochs=EPOCHS,\n",
    "                    callbacks=[accuracyCallbacks])"
   ]
  },
  {
   "cell_type": "markdown",
   "id": "32a6077c",
   "metadata": {
    "papermill": {
     "duration": 0.35716,
     "end_time": "2023-04-28T09:13:15.718380",
     "exception": false,
     "start_time": "2023-04-28T09:13:15.361220",
     "status": "completed"
    },
    "tags": []
   },
   "source": [
    "### Inspecting our results"
   ]
  },
  {
   "cell_type": "markdown",
   "id": "ce1efd25",
   "metadata": {
    "papermill": {
     "duration": 0.363019,
     "end_time": "2023-04-28T09:13:16.443845",
     "exception": false,
     "start_time": "2023-04-28T09:13:16.080826",
     "status": "completed"
    },
    "tags": []
   },
   "source": [
    "Let us produce some plots and investigate how it went."
   ]
  },
  {
   "cell_type": "code",
   "execution_count": 14,
   "id": "3e1dc275",
   "metadata": {
    "execution": {
     "iopub.execute_input": "2023-04-28T09:13:17.227887Z",
     "iopub.status.busy": "2023-04-28T09:13:17.227520Z",
     "iopub.status.idle": "2023-04-28T09:13:17.669199Z",
     "shell.execute_reply": "2023-04-28T09:13:17.668063Z"
    },
    "papermill": {
     "duration": 0.812981,
     "end_time": "2023-04-28T09:13:17.671426",
     "exception": false,
     "start_time": "2023-04-28T09:13:16.858445",
     "status": "completed"
    },
    "tags": []
   },
   "outputs": [
    {
     "data": {
      "image/png": "[encoded data removed]",
      "text/plain": [
       "<Figure size 640x480 with 1 Axes>"
      ]
     },
     "metadata": {},
     "output_type": "display_data"
    },
    {
     "data": {
      "image/png": "[encoded data removed]",
      "text/plain": [
       "<Figure size 640x480 with 1 Axes>"
      ]
     },
     "metadata": {},
     "output_type": "display_data"
    }
   ],
   "source": [
    "#Summarize history for accuracy\n",
    "plt.plot(history.history['accuracy'])\n",
    "plt.plot(history.history['val_accuracy'])\n",
    "plt.title('model accuracy')\n",
    "plt.ylabel('accuracy')\n",
    "plt.xlabel('epoch')\n",
    "plt.legend(['train', 'test'], loc='upper left')\n",
    "plt.grid()\n",
    "plt.show()\n",
    "\n",
    "# summarize history for loss\n",
    "plt.plot(history.history['loss'])\n",
    "plt.plot(history.history['val_loss'])\n",
    "plt.title('model loss')\n",
    "plt.ylabel('loss')\n",
    "plt.xlabel('epoch')\n",
    "plt.legend(['train', 'test'], loc='upper left')\n",
    "plt.grid()\n",
    "plt.show()"
   ]
  },
  {
   "cell_type": "code",
   "execution_count": 15,
   "id": "5ab51777",
   "metadata": {
    "execution": {
     "iopub.execute_input": "2023-04-28T09:13:18.397717Z",
     "iopub.status.busy": "2023-04-28T09:13:18.397346Z",
     "iopub.status.idle": "2023-04-28T09:13:20.470590Z",
     "shell.execute_reply": "2023-04-28T09:13:20.469416Z"
    },
    "papermill": {
     "duration": 2.439246,
     "end_time": "2023-04-28T09:13:20.473181",
     "exception": false,
     "start_time": "2023-04-28T09:13:18.033935",
     "status": "completed"
    },
    "tags": []
   },
   "outputs": [],
   "source": [
    "path_test = \"/kaggle/input/digit-recognizer/test.csv\"\n",
    "mnist_test = pd.read_csv(path_test)\n",
    "X_test = mnist_test.to_numpy()\n",
    "X_test = X_test/.255 \n",
    "X_test = np.array(X_test).reshape(X_test.shape[0], 28, 28, 1)"
   ]
  },
  {
   "cell_type": "code",
   "execution_count": 16,
   "id": "aaab6369",
   "metadata": {
    "execution": {
     "iopub.execute_input": "2023-04-28T09:13:21.247939Z",
     "iopub.status.busy": "2023-04-28T09:13:21.247575Z",
     "iopub.status.idle": "2023-04-28T09:13:24.213552Z",
     "shell.execute_reply": "2023-04-28T09:13:24.212428Z"
    },
    "papermill": {
     "duration": 3.33325,
     "end_time": "2023-04-28T09:13:24.216604",
     "exception": false,
     "start_time": "2023-04-28T09:13:20.883354",
     "status": "completed"
    },
    "tags": []
   },
   "outputs": [
    {
     "name": "stdout",
     "output_type": "stream",
     "text": [
      "875/875 [==============================] - 2s 2ms/step\n"
     ]
    }
   ],
   "source": [
    "y_pred = model.predict(X_test)\n",
    "preds_test = np.argmax(y_pred,axis = 1)\n",
    "\n",
    "sample_sub = pd.read_csv(\"/kaggle/input/digit-recognizer/sample_submission.csv\")\n",
    "test_id = sample_sub.ImageId.copy()\n",
    "\n",
    "results = pd.Series(preds_test,name=\"Label\")\n",
    "output = pd.DataFrame({'ImageId': test_id,\n",
    "                       'Label': preds_test})\n",
    "\n",
    "output.to_csv('submission.csv', index=False)"
   ]
  },
  {
   "cell_type": "code",
   "execution_count": null,
   "id": "753436ef",
   "metadata": {
    "papermill": {
     "duration": 0.40712,
     "end_time": "2023-04-28T09:13:25.008489",
     "exception": false,
     "start_time": "2023-04-28T09:13:24.601369",
     "status": "completed"
    },
    "tags": []
   },
   "outputs": [],
   "source": []
  }
 ],
 "metadata": {
  "kernelspec": {
   "display_name": "Python 3",
   "language": "python",
   "name": "python3"
  },
  "language_info": {
   "codemirror_mode": {
    "name": "ipython",
    "version": 3
   },
   "file_extension": ".py",
   "mimetype": "text/x-python",
   "name": "python",
   "nbconvert_exporter": "python",
   "pygments_lexer": "ipython3",
   "version": "3.7.12"
  },
  "papermill": {
   "default_parameters": {},
   "duration": 641.323854,
   "end_time": "2023-04-28T09:13:28.444151",
   "environment_variables": {},
   "exception": null,
   "input_path": "__notebook__.ipynb",
   "output_path": "__notebook__.ipynb",
   "parameters": {},
   "start_time": "2023-04-28T09:02:47.120297",
   "version": "2.4.0"
  }
 },
 "nbformat": 4,
 "nbformat_minor": 5
}
